{
  "nbformat": 4,
  "nbformat_minor": 0,
  "metadata": {
    "colab": {
      "provenance": [],
      "authorship_tag": "ABX9TyOyMwpkYJriIhBO1+QfgcyC",
      "include_colab_link": true
    },
    "kernelspec": {
      "name": "python3",
      "display_name": "Python 3"
    },
    "language_info": {
      "name": "python"
    }
  },
  "cells": [
    {
      "cell_type": "markdown",
      "metadata": {
        "id": "view-in-github",
        "colab_type": "text"
      },
      "source": [
        "<a href=\"https://colab.research.google.com/github/djsabelo/BiosignalsDeepLearningWorkshop/blob/main/CNN_exercise.ipynb\" target=\"_parent\"><img src=\"https://colab.research.google.com/assets/colab-badge.svg\" alt=\"Open In Colab\"/></a>"
      ]
    },
    {
      "cell_type": "markdown",
      "source": [
        "# Let's create a CNN \n",
        "\n",
        "## 1. Each step will guide you through this process:\n",
        "### 1. Load MNIST data from keras\n",
        "### 2. Plot some examples of images\n",
        "### 3. Make the input and the output matrices\n",
        "### 4. Separate data for cross validation\n",
        "### 5. Setup:\n",
        "\n",
        "\n",
        "1.   Input layer \n",
        "2.   Convolutional layer\n",
        "3.   Flatten layer\n",
        "4.   2 x Feedforward layer\n",
        "5.   Softmax activation layer for classification\n",
        "\n",
        "\n",
        "### 5. Setup training and optimizer's parameters [use acurancy as metric]\n",
        "### 6. Train and check the output - remember to look at the loss!\n",
        "### 7. Fine-tune variables untill you get the maximum performance\n",
        "\n",
        "## 2. setup the process with 2 x conv layers and a maxpool layer - compare performance\n",
        "\n",
        "## 3. Setup the process with 3 x conv layers and a maxpool layer\n",
        "\n"
      ],
      "metadata": {
        "id": "E1Pw3OXGGTq8"
      }
    },
    {
      "cell_type": "code",
      "execution_count": 1,
      "metadata": {
        "id": "ctykvXT4GQ73"
      },
      "outputs": [],
      "source": [
        "import numpy as np\n",
        "import matplotlib.pyplot as plt\n",
        "from tensorflow.python import train\n",
        "import tensorflow as tf\n",
        "from tensorflow import keras\n",
        "from tensorflow.keras import layers"
      ]
    },
    {
      "cell_type": "markdown",
      "source": [
        "# Load data"
      ],
      "metadata": {
        "id": "R_ZV9VTuIUxd"
      }
    },
    {
      "cell_type": "code",
      "source": [
        "tf.keras.datasets.mnist.load_data(path=\"mnist.npz\")"
      ],
      "metadata": {
        "id": "Z9tiU1-eIGDH"
      },
      "execution_count": null,
      "outputs": []
    }
  ]
}