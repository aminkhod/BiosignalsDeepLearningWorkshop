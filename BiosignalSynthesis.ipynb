{
  "nbformat": 4,
  "nbformat_minor": 0,
  "metadata": {
    "colab": {
      "name": "BiosignalSynthesis.ipynb",
      "provenance": [],
      "authorship_tag": "ABX9TyOkF0awpQbxCcqTtTCMjt+s",
      "include_colab_link": true
    },
    "kernelspec": {
      "name": "python3",
      "display_name": "Python 3"
    }
  },
  "cells": [
    {
      "cell_type": "markdown",
      "metadata": {
        "id": "view-in-github",
        "colab_type": "text"
      },
      "source": [
        "<a href=\"https://colab.research.google.com/github/djsabelo/BiosignalsDeepLearningWorkshop/blob/main/BiosignalSynthesis.ipynb\" target=\"_parent\"><img src=\"https://colab.research.google.com/assets/colab-badge.svg\" alt=\"Open In Colab\"/></a>"
      ]
    },
    {
      "cell_type": "markdown",
      "metadata": {
        "id": "QtVvKe14ciUO"
      },
      "source": [
        "1. Fazer o x e o y\r\n",
        "2. Cross validation data\r\n",
        "3. Optimizer\r\n",
        "4. Setup do tensorboard - fazer callback para gravar numa variavel do loss\r\n",
        "5. Make model\r\n",
        "6. Train model\r\n",
        "7. See loss function;\r\n",
        "8. Try different parameters, namely learning rate\r\n",
        "9. Plot Results\r\n",
        "11. Plot softmax with signal\r\n",
        "10. Plot R^2 and print metrics\r\n",
        "11. Synthesize model\r\n",
        "12. Plot synthesized signal\r\n",
        "13. Plot previously synthesized \r\n"
      ]
    },
    {
      "cell_type": "code",
      "metadata": {
        "id": "DpwK0wfLcfc2"
      },
      "source": [
        ""
      ],
      "execution_count": null,
      "outputs": []
    }
  ]
}